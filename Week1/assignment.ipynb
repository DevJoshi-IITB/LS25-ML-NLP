{
 "cells": [
  {
   "cell_type": "markdown",
   "id": "fb4e0a30",
   "metadata": {},
   "source": [
    "# Problem 1"
   ]
  },
  {
   "cell_type": "code",
   "execution_count": 1,
   "id": "1fe84d90",
   "metadata": {},
   "outputs": [
    {
     "name": "stdout",
     "output_type": "stream",
     "text": [
      "[[45 32  3  4]\n",
      " [ 7 45 34 32]\n",
      " [36 42 45  3]\n",
      " [43 36 36 44]\n",
      " [27 29 35 41]]\n"
     ]
    }
   ],
   "source": [
    "import numpy as np\n",
    "\n",
    "arr = np.random.randint(1, 51, size=(5, 4))\n",
    "print(arr)"
   ]
  },
  {
   "cell_type": "code",
   "execution_count": 2,
   "id": "abd246ab",
   "metadata": {},
   "outputs": [
    {
     "name": "stdout",
     "output_type": "stream",
     "text": [
      "4\n",
      "34\n",
      "42\n",
      "43\n"
     ]
    }
   ],
   "source": [
    "for i in range(3, -1, -1):\n",
    "    print(arr[3 - i][i])"
   ]
  },
  {
   "cell_type": "code",
   "execution_count": 3,
   "id": "da6f1189",
   "metadata": {},
   "outputs": [
    {
     "name": "stdout",
     "output_type": "stream",
     "text": [
      "[45 32 45 34 32 36 42 45 43 36 36 44 35 41]\n"
     ]
    }
   ],
   "source": [
    "mean_val = arr.mean()\n",
    "new_arr = arr[arr >= mean_val]\n",
    "print(new_arr)"
   ]
  },
  {
   "cell_type": "code",
   "execution_count": 4,
   "id": "78570393",
   "metadata": {},
   "outputs": [
    {
     "name": "stdout",
     "output_type": "stream",
     "text": [
      "[45, 32, 3, 4, 32, 3, 44, 41, 35, 29, 27, 43, 36, 7]\n"
     ]
    }
   ],
   "source": [
    "def numpy_boundary_traversal(mat):\n",
    "    if mat.size == 0:\n",
    "        return []\n",
    "\n",
    "    rows, cols = mat.shape\n",
    "    result = []\n",
    "\n",
    "    for j in range(cols):\n",
    "        result.append(mat[0][j])\n",
    "\n",
    "    for i in range(1, rows):\n",
    "        result.append(mat[i][cols - 1])\n",
    "\n",
    "    if rows > 1:\n",
    "        for j in range(cols - 2, -1, -1):\n",
    "            result.append(mat[rows - 1][j])\n",
    "\n",
    "    if cols > 1:\n",
    "        for i in range(rows - 2, 0, -1):\n",
    "            result.append(mat[i][0])\n",
    "\n",
    "    return result\n",
    "\n",
    "print(numpy_boundary_traversal(arr))"
   ]
  },
  {
   "cell_type": "markdown",
   "id": "6032b5c6",
   "metadata": {},
   "source": [
    "# Problem 2"
   ]
  },
  {
   "cell_type": "code",
   "execution_count": 5,
   "id": "a9c9127f",
   "metadata": {},
   "outputs": [
    {
     "name": "stdout",
     "output_type": "stream",
     "text": [
      "[4.32351092 1.37546935 1.80994969 1.27791775 1.20271125 0.35056545\n",
      " 1.66604072 6.33029099 3.15400957 2.55104931 4.2906476  1.92641237\n",
      " 1.40985377 4.16960107 7.12246316 6.34002034 5.06651768 4.96729088\n",
      " 9.49911912 0.05985162]\n"
     ]
    }
   ],
   "source": [
    "rand_arr = np.random.uniform(0, 10, 20)\n",
    "print(rand_arr)"
   ]
  },
  {
   "cell_type": "code",
   "execution_count": 6,
   "id": "8cfb8b81",
   "metadata": {},
   "outputs": [
    {
     "name": "stdout",
     "output_type": "stream",
     "text": [
      "[4.32 1.38 1.81 1.28 1.2  0.35 1.67 6.33 3.15 2.55 4.29 1.93 1.41 4.17\n",
      " 7.12 6.34 5.07 4.97 9.5  0.06]\n"
     ]
    }
   ],
   "source": [
    "print(np.round(rand_arr, 2))"
   ]
  },
  {
   "cell_type": "code",
   "execution_count": 13,
   "id": "95ff4f40",
   "metadata": {},
   "outputs": [
    {
     "name": "stdout",
     "output_type": "stream",
     "text": [
      "[1.86927467e+01 1.89191594e+00 3.27591789e+00 1.63307377e+00\n",
      " 1.44651435e+00 1.22896137e-01 2.77569167e+00 6.33029099e+00\n",
      " 9.94777635e+00 6.50785258e+00 1.84096568e+01 3.71106460e+00\n",
      " 1.98768766e+00 1.73855731e+01 7.12246316e+00 6.34002034e+00\n",
      " 5.06651768e+00 2.46739787e+01 9.49911912e+00 3.58221635e-03]\n"
     ]
    }
   ],
   "source": [
    "rand_arr = np.where(rand_arr < 5, rand_arr ** 2, rand_arr)\n",
    "print(rand_arr)"
   ]
  },
  {
   "cell_type": "code",
   "execution_count": 15,
   "id": "b9f4a924",
   "metadata": {},
   "outputs": [
    {
     "name": "stdout",
     "output_type": "stream",
     "text": [
      "[3.58221635e-03 2.46739787e+01 1.22896137e-01 1.86927467e+01\n",
      " 1.44651435e+00 1.84096568e+01 1.63307377e+00 1.73855731e+01\n",
      " 1.89191594e+00 9.94777635e+00 1.98768766e+00 9.49911912e+00\n",
      " 2.77569167e+00 7.12246316e+00 3.27591789e+00 6.50785258e+00\n",
      " 3.71106460e+00 6.34002034e+00 5.06651768e+00 6.33029099e+00]\n"
     ]
    }
   ],
   "source": [
    "def numpy_alternate_sort(array):\n",
    "    sorted_arr = np.sort(array)\n",
    "    result = []\n",
    "    left, right = 0, len(sorted_arr) - 1\n",
    "    while left <= right:\n",
    "        result.append(sorted_arr[left])\n",
    "        left += 1\n",
    "        if left <= right:\n",
    "            result.append(sorted_arr[right])\n",
    "            right -= 1\n",
    "    return np.array(result)\n",
    "\n",
    "print(numpy_alternate_sort(rand_arr))"
   ]
  },
  {
   "cell_type": "markdown",
   "id": "3332515c",
   "metadata": {},
   "source": [
    "# Problem 3"
   ]
  },
  {
   "cell_type": "code",
   "execution_count": 19,
   "id": "1a1f0714",
   "metadata": {},
   "outputs": [
    {
     "name": "stdout",
     "output_type": "stream",
     "text": [
      "       Name    Subject  Score Grade\n",
      "0     Brown    Physics     61     D\n",
      "1     Jones    Physics     56     F\n",
      "2   Johnson    Physics     97     A\n",
      "3     Jones    English     63     D\n",
      "4     Smith       Math     82     B\n",
      "5   Johnson    Physics     87     B\n",
      "6  Williams  Chemistry     77     C\n",
      "7     Smith  Chemistry     65     D\n",
      "8     Smith    Physics     80     B\n",
      "9   Johnson       Math     54     F\n"
     ]
    }
   ],
   "source": [
    "import pandas as pd\n",
    "def assign_grade(score):\n",
    "    if score >= 90:\n",
    "        return 'A'\n",
    "    elif score >= 80:\n",
    "        return 'B'\n",
    "    elif score >= 70:\n",
    "        return 'C'\n",
    "    elif score >= 60:\n",
    "        return 'D'\n",
    "    else:\n",
    "        return 'F'\n",
    "    \n",
    "data = {\n",
    "    'Name': [f'{np.random.choice([\"Smith\", \"Johnson\", \"Williams\", \"Jones\", \"Brown\"])}' for _ in range(10)],\n",
    "    'Subject': [f'{np.random.choice([\"Math\", \"Physics\", \"English\", \"Chemistry\"])}' for i in range(10)],\n",
    "    'Score': np.random.randint(50, 101, size=10),\n",
    "    'Grade': [''] * 10\n",
    "}\n",
    "df = pd.DataFrame(data)\n",
    "df['Grade'] = df['Score'].apply(assign_grade)\n",
    "print(df)"
   ]
  },
  {
   "cell_type": "code",
   "execution_count": 20,
   "id": "1b3ebb50",
   "metadata": {},
   "outputs": [
    {
     "name": "stdout",
     "output_type": "stream",
     "text": [
      "       Name    Subject  Score Grade\n",
      "2   Johnson    Physics     97     A\n",
      "5   Johnson    Physics     87     B\n",
      "4     Smith       Math     82     B\n",
      "8     Smith    Physics     80     B\n",
      "6  Williams  Chemistry     77     C\n",
      "7     Smith  Chemistry     65     D\n",
      "3     Jones    English     63     D\n",
      "0     Brown    Physics     61     D\n",
      "1     Jones    Physics     56     F\n",
      "9   Johnson       Math     54     F\n"
     ]
    }
   ],
   "source": [
    "print(df.sort_values(by='Score', ascending=False))"
   ]
  },
  {
   "cell_type": "code",
   "execution_count": 22,
   "id": "7e28fca1",
   "metadata": {},
   "outputs": [
    {
     "name": "stdout",
     "output_type": "stream",
     "text": [
      "Subject\n",
      "Chemistry    71.0\n",
      "English      63.0\n",
      "Math         68.0\n",
      "Physics      76.2\n",
      "Name: Score, dtype: float64\n"
     ]
    }
   ],
   "source": [
    "print(df.groupby('Subject')['Score'].mean())"
   ]
  },
  {
   "cell_type": "code",
   "execution_count": 23,
   "id": "3eb5030c",
   "metadata": {},
   "outputs": [
    {
     "name": "stdout",
     "output_type": "stream",
     "text": [
      "      Name  Subject  Score Grade\n",
      "2  Johnson  Physics     97     A\n",
      "4    Smith     Math     82     B\n",
      "5  Johnson  Physics     87     B\n",
      "8    Smith  Physics     80     B\n"
     ]
    }
   ],
   "source": [
    "def pandas_filter_pass(dataframe):\n",
    "    return dataframe[dataframe['Grade'].isin(['A', 'B'])]\n",
    "\n",
    "print(pandas_filter_pass(df))"
   ]
  },
  {
   "cell_type": "markdown",
   "id": "5bf87c7a",
   "metadata": {},
   "source": [
    "# Problem 4"
   ]
  },
  {
   "cell_type": "code",
   "execution_count": 24,
   "id": "a33aa676",
   "metadata": {},
   "outputs": [
    {
     "name": "stdout",
     "output_type": "stream",
     "text": [
      "                      Review Sentiment\n",
      "0      A well-crafted movie.  positive\n",
      "1  Uninteresting characters.  negative\n",
      "2         A dull experience.  negative\n",
      "3          Superb direction.  positive\n",
      "4           A tedious watch.  negative\n"
     ]
    }
   ],
   "source": [
    "import random\n",
    "import pandas as pd\n",
    "\n",
    "positive_reviews = [\n",
    "    \"Absolutely loved it!\", \"A masterpiece.\", \"Brilliant acting and story.\", \"Highly recommended.\", \"A must-watch.\",\n",
    "    \"Fantastic from start to finish.\", \"Heartwarming and inspiring.\", \"Exceeded my expectations.\", \"A delightful experience.\", \"Superb direction.\",\n",
    "    \"The cast was phenomenal.\", \"A cinematic triumph.\", \"Beautifully shot.\", \"An emotional rollercoaster.\", \"A true classic.\",\n",
    "    \"Loved every minute.\", \"A feel-good movie.\", \"The best film I've seen this year.\", \"Incredible visuals.\", \"A joy to watch.\",\n",
    "    \"Perfectly executed.\", \"A wonderful journey.\", \"A breath of fresh air.\", \"A powerful message.\", \"Unforgettable.\",\n",
    "    \"Stellar performances.\", \"A visual treat.\", \"A moving story.\", \"Simply amazing.\", \"A work of art.\",\n",
    "    \"Captivating and engaging.\", \"A thoroughly enjoyable film.\", \"A top-notch production.\", \"A charming film.\", \"A real gem.\",\n",
    "    \"A fantastic ride.\", \"A brilliant script.\", \"A heartwarming tale.\", \"A beautiful narrative.\", \"A stunning achievement.\",\n",
    "    \"A delightful surprise.\", \"A well-crafted movie.\", \"A memorable experience.\", \"A must-see.\", \"A perfect blend of humor and drama.\",\n",
    "    \"A touching story.\", \"A wonderful cast.\", \"A great watch.\", \"A feel-good experience.\", \"A top-tier film.\", \"A masterpiece of cinema.\"\n",
    "]\n",
    "\n",
    "negative_reviews = [\n",
    "    \"Terrible movie.\", \"A complete waste of time.\", \"Poor acting.\", \"Boring and predictable.\", \"Not worth watching.\",\n",
    "    \"Disappointing from start to finish.\", \"Lacked depth.\", \"Uninspired and dull.\", \"Failed to impress.\", \"A forgettable experience.\",\n",
    "    \"The plot was weak.\", \"Bad direction.\", \"Unconvincing performances.\", \"A mess of a film.\", \"Painfully slow.\",\n",
    "    \"Overhyped and underwhelming.\", \"A tedious watch.\", \"Nothing special.\", \"A letdown.\", \"Unoriginal and bland.\",\n",
    "    \"The script was awful.\", \"A boring storyline.\", \"A poor attempt.\", \"A waste of money.\", \"Not engaging.\",\n",
    "    \"Mediocre at best.\", \"A total flop.\", \"Uninteresting characters.\", \"A disappointing movie.\", \"A lackluster film.\",\n",
    "    \"A forgettable plot.\", \"A dull experience.\", \"A poorly made film.\", \"A snooze fest.\", \"A disaster.\",\n",
    "    \"A weak narrative.\", \"A pointless movie.\", \"A bad experience.\", \"A failed attempt.\", \"A subpar film.\",\n",
    "    \"A boring movie.\", \"A terrible script.\", \"A waste of time.\", \"A bland film.\", \"A disappointing story.\",\n",
    "    \"A forgettable cast.\", \"A poorly executed film.\", \"A lack of originality.\", \"A dreadful movie.\", \"A bad watch.\", \"A mess.\"\n",
    "]\n",
    "\n",
    "# Shuffle to avoid order bias\n",
    "random.seed(42)\n",
    "all_reviews = [(review, \"positive\") for review in positive_reviews] + [(review, \"negative\") for review in negative_reviews]\n",
    "random.shuffle(all_reviews)\n",
    "\n",
    "# Create DataFrame\n",
    "movie_reviews_df = pd.DataFrame(all_reviews, columns=[\"Review\", \"Sentiment\"])\n",
    "print(movie_reviews_df.head())"
   ]
  },
  {
   "cell_type": "code",
   "execution_count": 25,
   "id": "59e06ac3",
   "metadata": {},
   "outputs": [
    {
     "name": "stdout",
     "output_type": "stream",
     "text": [
      "(102, 138)\n",
      "['absolutely' 'achievement' 'acting' 'air' 'amazing' 'art' 'attempt'\n",
      " 'awful' 'bad' 'beautiful']\n"
     ]
    }
   ],
   "source": [
    "from sklearn.feature_extraction.text import CountVectorizer\n",
    "\n",
    "vectorizer = CountVectorizer(max_features=500, stop_words='english')\n",
    "X = vectorizer.fit_transform(movie_reviews_df['Review'])\n",
    "\n",
    "print(X.shape)\n",
    "print(vectorizer.get_feature_names_out()[:10])  # Show first 10 feature names"
   ]
  },
  {
   "cell_type": "code",
   "execution_count": 28,
   "id": "b7635a71",
   "metadata": {},
   "outputs": [],
   "source": [
    "from sklearn.model_selection import train_test_split\n",
    "X_train, X_test, y_train, y_test = train_test_split(X, movie_reviews_df['Sentiment'], test_size=0.2, random_state=42)"
   ]
  },
  {
   "cell_type": "code",
   "execution_count": 29,
   "id": "d8935152",
   "metadata": {},
   "outputs": [
    {
     "name": "stdout",
     "output_type": "stream",
     "text": [
      "Accuracy of the Naive Bayes classifier: 0.67\n"
     ]
    }
   ],
   "source": [
    "from sklearn.naive_bayes import MultinomialNB\n",
    "classifier = MultinomialNB()\n",
    "classifier.fit(X_train, y_train)\n",
    "accuracy = classifier.score(X_test, y_test)\n",
    "print(f\"Accuracy of the Naive Bayes classifier: {accuracy:.2f}\")"
   ]
  },
  {
   "cell_type": "code",
   "execution_count": 30,
   "id": "276574d3",
   "metadata": {},
   "outputs": [
    {
     "name": "stdout",
     "output_type": "stream",
     "text": [
      "The predicted sentiment for the review 'This movie was absolutely fantastic!' is: positive\n"
     ]
    }
   ],
   "source": [
    "def predict_review_sentiment(model, vectorizer, review):\n",
    "    review_vector = vectorizer.transform([review])\n",
    "    prediction = model.predict(review_vector)\n",
    "    return prediction[0]\n",
    "\n",
    "example_review = \"This movie was absolutely fantastic!\"\n",
    "predicted_sentiment = predict_review_sentiment(classifier, vectorizer, example_review)\n",
    "print(f\"The predicted sentiment for the review '{example_review}' is: {predicted_sentiment}\")\n"
   ]
  },
  {
   "cell_type": "markdown",
   "id": "5a128563",
   "metadata": {},
   "source": [
    "# Problem 5"
   ]
  },
  {
   "cell_type": "code",
   "execution_count": null,
   "id": "b1f643f8",
   "metadata": {},
   "outputs": [
    {
     "name": "stdout",
     "output_type": "stream",
     "text": [
      "                                     text label\n",
      "0          Great product, very satisfied!  good\n",
      "1  Terrible quality, not worth the price.   bad\n",
      "2    Excellent service and fast delivery.  good\n",
      "3    Very disappointed with the purchase.   bad\n",
      "4             Highly recommend this item!  good\n"
     ]
    }
   ],
   "source": [
    " \n",
    "\n",
    "import pandas as pd\n",
    "import numpy as np\n",
    "np.random.seed(42)\n",
    "data = {\n",
    "    'text': [\n",
    "        \"Great product, very satisfied!\", \"Terrible quality, not worth the price.\",\n",
    "        \"Excellent service and fast delivery.\", \"Very disappointed with the purchase.\",\n",
    "        \"Highly recommend this item!\", \"Would not buy again, poor performance.\",\n",
    "        \"Amazing quality, exceeded my expectations.\", \"Not as described, very unhappy.\",\n",
    "        \"Fantastic experience, will shop again.\", \"Awful customer support, never again.\"\n",
    "    ] * 10,\n",
    "    'label': ['good', 'bad'] * 50\n",
    "}   \n",
    "df = pd.DataFrame(data)\n",
    "print(df.head())\n"
   ]
  },
  {
   "cell_type": "code",
   "execution_count": 35,
   "id": "980c797d",
   "metadata": {},
   "outputs": [],
   "source": [
    "from sklearn.feature_extraction.text import TfidfVectorizer\n",
    "vectorizer = TfidfVectorizer(max_features=300, lowercase=True, stop_words='english')\n",
    "X = vectorizer.fit_transform(df['text'])\n",
    "\n",
    "from sklearn.preprocessing import LabelEncoder\n",
    "label_encoder = LabelEncoder()\n",
    "y = label_encoder.fit_transform(df['label'])\n"
   ]
  },
  {
   "cell_type": "code",
   "execution_count": 36,
   "id": "293a7c62",
   "metadata": {},
   "outputs": [],
   "source": [
    "X_train, X_test, y_train, y_test = train_test_split(X, y, test_size=0.25, random_state=42)"
   ]
  },
  {
   "cell_type": "code",
   "execution_count": 37,
   "id": "9dc971e5",
   "metadata": {},
   "outputs": [
    {
     "name": "stdout",
     "output_type": "stream",
     "text": [
      "Precision: 1.00, Recall: 1.00, F1-Score: 1.00\n"
     ]
    }
   ],
   "source": [
    "from sklearn.linear_model import LogisticRegression\n",
    "model = LogisticRegression(max_iter=1000)\n",
    "model.fit(X_train, y_train)\n",
    "\n",
    "from sklearn.metrics import precision_recall_fscore_support\n",
    "y_pred = model.predict(X_test)\n",
    "precision, recall, f1, _ = precision_recall_fscore_support(y_test, y_pred, average='binary')\n",
    "print(f\"Precision: {precision:.2f}, Recall: {recall:.2f}, F1-Score: {f1:.2f}\")\n"
   ]
  },
  {
   "cell_type": "code",
   "execution_count": 38,
   "id": "6bef5d94",
   "metadata": {},
   "outputs": [
    {
     "name": "stdout",
     "output_type": "stream",
     "text": [
      "[[0.70710678 0.         0.         0.         0.         0.\n",
      "  0.         0.         0.         0.         0.         0.\n",
      "  0.         0.         0.         0.         0.         0.\n",
      "  0.         0.70710678 0.         0.         0.         0.\n",
      "  0.         0.         0.         0.         0.         0.        ]\n",
      " [0.         0.         0.         0.         0.         0.\n",
      "  0.         0.         0.         0.         0.57735027 0.\n",
      "  0.         0.         0.         0.         0.         0.\n",
      "  0.         0.         0.         0.         0.         0.\n",
      "  0.57735027 0.         0.         0.57735027 0.         0.        ]\n",
      " [0.         0.         0.         0.         0.         0.\n",
      "  0.         0.         0.         0.         0.         0.\n",
      "  0.         0.         0.70710678 0.         0.         0.\n",
      "  0.         0.         0.         0.         0.70710678 0.\n",
      "  0.         0.         0.         0.         0.         0.        ]]\n"
     ]
    }
   ],
   "source": [
    "def text_preprocess_vectorize(texts, vectorizer):\n",
    "    return vectorizer.transform(texts)\n",
    "\n",
    "\n",
    "sample_texts = [\n",
    "    \"This product is amazing!\", \n",
    "    \"I had a terrible experience with the service.\", \n",
    "    \"Highly recommend this to everyone!\"\n",
    "]\n",
    "vectorized_texts = text_preprocess_vectorize(sample_texts, vectorizer)\n",
    "print(vectorized_texts.toarray())\n"
   ]
  }
 ],
 "metadata": {
  "kernelspec": {
   "display_name": "Python 3",
   "language": "python",
   "name": "python3"
  },
  "language_info": {
   "codemirror_mode": {
    "name": "ipython",
    "version": 3
   },
   "file_extension": ".py",
   "mimetype": "text/x-python",
   "name": "python",
   "nbconvert_exporter": "python",
   "pygments_lexer": "ipython3",
   "version": "3.12.10"
  }
 },
 "nbformat": 4,
 "nbformat_minor": 5
}
